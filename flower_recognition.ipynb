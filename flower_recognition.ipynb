{
 "cells": [
  {
   "cell_type": "code",
   "execution_count": 2,
   "metadata": {},
   "outputs": [],
   "source": [
    "#importing libraries"
   ]
  },
  {
   "cell_type": "code",
   "execution_count": 3,
   "metadata": {},
   "outputs": [],
   "source": [
    "import numpy as np\n",
    "import tensorflow as tf\n",
    "from keras.preprocessing.image import ImageDataGenerator"
   ]
  },
  {
   "cell_type": "code",
   "execution_count": 4,
   "metadata": {},
   "outputs": [],
   "source": [
    "#Data Preprocessing"
   ]
  },
  {
   "cell_type": "code",
   "execution_count": 5,
   "metadata": {},
   "outputs": [],
   "source": [
    "#Training Image processing"
   ]
  },
  {
   "cell_type": "code",
   "execution_count": 6,
   "metadata": {},
   "outputs": [
    {
     "name": "stdout",
     "output_type": "stream",
     "text": [
      "Found 2877 images belonging to 5 classes.\n"
     ]
    }
   ],
   "source": [
    "train_datagen = ImageDataGenerator(\n",
    "    rescale = 1./255,shear_range = 0.2, zoom_range = 0.2, horizontal_flip = True)\n",
    "training_set = train_datagen.flow_from_directory(\n",
    "    'training_set', target_size = (64,64), batch_size = 32, class_mode = 'categorical')\n"
   ]
  },
  {
   "cell_type": "code",
   "execution_count": 7,
   "metadata": {},
   "outputs": [],
   "source": [
    "#Test Image Processing"
   ]
  },
  {
   "cell_type": "code",
   "execution_count": 8,
   "metadata": {},
   "outputs": [
    {
     "name": "stdout",
     "output_type": "stream",
     "text": [
      "Found 1440 images belonging to 5 classes.\n"
     ]
    }
   ],
   "source": [
    "test_datagen = ImageDataGenerator(\n",
    "    rescale = 1./255)\n",
    "test_set = test_datagen.flow_from_directory(\n",
    "    'test_set', target_size = (64,64), batch_size = 32, class_mode = 'categorical')\n"
   ]
  },
  {
   "cell_type": "code",
   "execution_count": 9,
   "metadata": {},
   "outputs": [],
   "source": [
    "#Building Model"
   ]
  },
  {
   "cell_type": "code",
   "execution_count": 10,
   "metadata": {},
   "outputs": [],
   "source": [
    "cnn = tf.keras.models.Sequential()"
   ]
  },
  {
   "cell_type": "code",
   "execution_count": 11,
   "metadata": {},
   "outputs": [],
   "source": [
    "#Building Convulution Network"
   ]
  },
  {
   "cell_type": "code",
   "execution_count": 12,
   "metadata": {},
   "outputs": [],
   "source": [
    "cnn.add(tf.keras.layers.Conv2D(filters = 64, kernel_size = 3, activation = 'relu', input_shape = [64,64,3]))\n",
    "cnn.add(tf.keras.layers.MaxPool2D(pool_size = 2, strides = 2))"
   ]
  },
  {
   "cell_type": "code",
   "execution_count": 13,
   "metadata": {},
   "outputs": [],
   "source": [
    "cnn.add(tf.keras.layers.Conv2D(filters = 64, kernel_size = 3, activation = 'relu'))\n",
    "cnn.add(tf.keras.layers.MaxPool2D(pool_size = 2, strides = 2))"
   ]
  },
  {
   "cell_type": "code",
   "execution_count": 14,
   "metadata": {},
   "outputs": [],
   "source": [
    "cnn.add(tf.keras.layers.Dropout(0.5))"
   ]
  },
  {
   "cell_type": "code",
   "execution_count": 15,
   "metadata": {},
   "outputs": [],
   "source": [
    "cnn.add(tf.keras.layers.Flatten())"
   ]
  },
  {
   "cell_type": "code",
   "execution_count": 16,
   "metadata": {},
   "outputs": [],
   "source": [
    "cnn.add(tf.keras.layers.Dense(units = 128, activation = 'relu'))"
   ]
  },
  {
   "cell_type": "code",
   "execution_count": 17,
   "metadata": {},
   "outputs": [],
   "source": [
    "cnn.add(tf.keras.layers.Dense(units = 5, activation = 'softmax'))"
   ]
  },
  {
   "cell_type": "code",
   "execution_count": 18,
   "metadata": {},
   "outputs": [],
   "source": [
    "cnn.compile(optimizer= 'rmsprop', loss= 'categorical_crossentropy', metrics = ['accuracy'])"
   ]
  },
  {
   "cell_type": "code",
   "execution_count": 19,
   "metadata": {},
   "outputs": [
    {
     "name": "stdout",
     "output_type": "stream",
     "text": [
      "Epoch 1/30\n",
      "90/90 [==============================] - 55s 576ms/step - loss: 1.3520 - accuracy: 0.4223 - val_loss: 1.1238 - val_accuracy: 0.5604\n",
      "Epoch 2/30\n",
      "90/90 [==============================] - 48s 528ms/step - loss: 1.1165 - accuracy: 0.5488 - val_loss: 1.1047 - val_accuracy: 0.5521\n",
      "Epoch 3/30\n",
      "90/90 [==============================] - 52s 571ms/step - loss: 1.0213 - accuracy: 0.5961 - val_loss: 0.9961 - val_accuracy: 0.6090\n",
      "Epoch 4/30\n",
      "90/90 [==============================] - 48s 529ms/step - loss: 0.9489 - accuracy: 0.6427 - val_loss: 1.0239 - val_accuracy: 0.5917\n",
      "Epoch 5/30\n",
      "90/90 [==============================] - 48s 537ms/step - loss: 0.8874 - accuracy: 0.6479 - val_loss: 0.9800 - val_accuracy: 0.6000\n",
      "Epoch 6/30\n",
      "90/90 [==============================] - 47s 517ms/step - loss: 0.8434 - accuracy: 0.6736 - val_loss: 0.9608 - val_accuracy: 0.6361\n",
      "Epoch 7/30\n",
      "90/90 [==============================] - 47s 517ms/step - loss: 0.8146 - accuracy: 0.6851 - val_loss: 0.8465 - val_accuracy: 0.6785\n",
      "Epoch 8/30\n",
      "90/90 [==============================] - 44s 485ms/step - loss: 0.7686 - accuracy: 0.7094 - val_loss: 0.8551 - val_accuracy: 0.6854\n",
      "Epoch 9/30\n",
      "90/90 [==============================] - 46s 509ms/step - loss: 0.7356 - accuracy: 0.7160 - val_loss: 0.9578 - val_accuracy: 0.6597\n",
      "Epoch 10/30\n",
      "90/90 [==============================] - 44s 489ms/step - loss: 0.7065 - accuracy: 0.7275 - val_loss: 0.8937 - val_accuracy: 0.6521\n",
      "Epoch 11/30\n",
      "90/90 [==============================] - 44s 490ms/step - loss: 0.6783 - accuracy: 0.7473 - val_loss: 0.8365 - val_accuracy: 0.6924\n",
      "Epoch 12/30\n",
      "90/90 [==============================] - 44s 485ms/step - loss: 0.6451 - accuracy: 0.7588 - val_loss: 1.2460 - val_accuracy: 0.5924\n",
      "Epoch 13/30\n",
      "90/90 [==============================] - 44s 483ms/step - loss: 0.6460 - accuracy: 0.7668 - val_loss: 0.8396 - val_accuracy: 0.6826\n",
      "Epoch 14/30\n",
      "90/90 [==============================] - 46s 512ms/step - loss: 0.5976 - accuracy: 0.7713 - val_loss: 1.0013 - val_accuracy: 0.6639\n",
      "Epoch 15/30\n",
      "90/90 [==============================] - 40s 445ms/step - loss: 0.5879 - accuracy: 0.7831 - val_loss: 0.8212 - val_accuracy: 0.7111\n",
      "Epoch 16/30\n",
      "90/90 [==============================] - 43s 474ms/step - loss: 0.5770 - accuracy: 0.7842 - val_loss: 1.0401 - val_accuracy: 0.6528\n",
      "Epoch 17/30\n",
      "90/90 [==============================] - 41s 451ms/step - loss: 0.5503 - accuracy: 0.7880 - val_loss: 0.9284 - val_accuracy: 0.6847\n",
      "Epoch 18/30\n",
      "90/90 [==============================] - 45s 494ms/step - loss: 0.5592 - accuracy: 0.7873 - val_loss: 0.8815 - val_accuracy: 0.6924\n",
      "Epoch 19/30\n",
      "90/90 [==============================] - 49s 541ms/step - loss: 0.5293 - accuracy: 0.8064 - val_loss: 0.9213 - val_accuracy: 0.6729\n",
      "Epoch 20/30\n",
      "90/90 [==============================] - 49s 540ms/step - loss: 0.5088 - accuracy: 0.8130 - val_loss: 0.9071 - val_accuracy: 0.6854\n",
      "Epoch 21/30\n",
      "90/90 [==============================] - 45s 500ms/step - loss: 0.4942 - accuracy: 0.8186 - val_loss: 0.8991 - val_accuracy: 0.6875\n",
      "Epoch 22/30\n",
      "90/90 [==============================] - 46s 505ms/step - loss: 0.4953 - accuracy: 0.8220 - val_loss: 1.0237 - val_accuracy: 0.6917\n",
      "Epoch 23/30\n",
      "90/90 [==============================] - 44s 484ms/step - loss: 0.4737 - accuracy: 0.8290 - val_loss: 0.9774 - val_accuracy: 0.6764\n",
      "Epoch 24/30\n",
      "90/90 [==============================] - 42s 466ms/step - loss: 0.4571 - accuracy: 0.8276 - val_loss: 0.9951 - val_accuracy: 0.6958\n",
      "Epoch 25/30\n",
      "90/90 [==============================] - 42s 470ms/step - loss: 0.4666 - accuracy: 0.8297 - val_loss: 0.9362 - val_accuracy: 0.7007\n",
      "Epoch 26/30\n",
      "90/90 [==============================] - 42s 465ms/step - loss: 0.4276 - accuracy: 0.8425 - val_loss: 0.9839 - val_accuracy: 0.6535\n",
      "Epoch 27/30\n",
      "90/90 [==============================] - 42s 465ms/step - loss: 0.4144 - accuracy: 0.8495 - val_loss: 0.8786 - val_accuracy: 0.7132\n",
      "Epoch 28/30\n",
      "90/90 [==============================] - 42s 466ms/step - loss: 0.3976 - accuracy: 0.8589 - val_loss: 0.9258 - val_accuracy: 0.7292\n",
      "Epoch 29/30\n",
      "90/90 [==============================] - 42s 466ms/step - loss: 0.3689 - accuracy: 0.8662 - val_loss: 1.0052 - val_accuracy: 0.6854\n",
      "Epoch 30/30\n",
      "90/90 [==============================] - 42s 465ms/step - loss: 0.3823 - accuracy: 0.8662 - val_loss: 1.1130 - val_accuracy: 0.6632\n"
     ]
    },
    {
     "data": {
      "text/plain": [
       "<keras.callbacks.History at 0x2e6bf4a6bc0>"
      ]
     },
     "execution_count": 19,
     "metadata": {},
     "output_type": "execute_result"
    }
   ],
   "source": [
    "cnn.fit(x = training_set, validation_data=test_set,epochs = 30)"
   ]
  },
  {
   "cell_type": "code",
   "execution_count": 20,
   "metadata": {},
   "outputs": [],
   "source": [
    "#Preprocess New Image"
   ]
  },
  {
   "cell_type": "code",
   "execution_count": 53,
   "metadata": {},
   "outputs": [
    {
     "name": "stdout",
     "output_type": "stream",
     "text": [
      "1/1 [==============================] - 0s 42ms/step\n"
     ]
    }
   ],
   "source": [
    "from tensorflow.keras.preprocessing import image\n",
    "test_image = image.load_img('Prediction/r.jpg', target_size = (64,64))\n",
    "test_image = image.img_to_array(test_image) \n",
    "test_image = np.expand_dims(test_image, axis = 0)\n",
    "result = cnn.predict(test_image)\n"
   ]
  },
  {
   "cell_type": "code",
   "execution_count": 54,
   "metadata": {},
   "outputs": [
    {
     "data": {
      "text/plain": [
       "{'daisy': 0, 'dandelion': 1, 'rose': 2, 'sunflower': 3, 'tulip': 4}"
      ]
     },
     "execution_count": 54,
     "metadata": {},
     "output_type": "execute_result"
    }
   ],
   "source": [
    "training_set.class_indices"
   ]
  },
  {
   "cell_type": "code",
   "execution_count": 55,
   "metadata": {},
   "outputs": [
    {
     "name": "stdout",
     "output_type": "stream",
     "text": [
      "[[0. 0. 1. 0. 0.]]\n"
     ]
    }
   ],
   "source": [
    "print(result)"
   ]
  },
  {
   "cell_type": "code",
   "execution_count": 56,
   "metadata": {},
   "outputs": [
    {
     "name": "stdout",
     "output_type": "stream",
     "text": [
      "Rose\n"
     ]
    }
   ],
   "source": [
    "if result[0][0] == 1:\n",
    "    print('Daisy')\n",
    "elif result[0][1] == 1:\n",
    "    print('Dandelion')\n",
    "elif result[0][2] == 1:\n",
    "    print('Rose')\n",
    "elif result[0][3] == 1:\n",
    "    print('Sunflower')\n",
    "elif result[0][4] == 1:\n",
    "    print('Tulip')"
   ]
  }
 ],
 "metadata": {
  "kernelspec": {
   "display_name": "Python 3.10.6 64-bit",
   "language": "python",
   "name": "python3"
  },
  "language_info": {
   "codemirror_mode": {
    "name": "ipython",
    "version": 3
   },
   "file_extension": ".py",
   "mimetype": "text/x-python",
   "name": "python",
   "nbconvert_exporter": "python",
   "pygments_lexer": "ipython3",
   "version": "3.10.6"
  },
  "orig_nbformat": 4,
  "vscode": {
   "interpreter": {
    "hash": "c7af7df4901773a0e355da496bf365ae011b1b331a57bbc9908dae1ee21823d7"
   }
  }
 },
 "nbformat": 4,
 "nbformat_minor": 2
}
